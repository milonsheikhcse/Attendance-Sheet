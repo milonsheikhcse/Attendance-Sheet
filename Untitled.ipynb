{
 "cells": [
  {
   "cell_type": "code",
   "execution_count": 1,
   "metadata": {},
   "outputs": [],
   "source": [
    "import pandas as pd\n",
    "import re\n",
    "\n",
    "# collect data\n",
    "df2 = pd.read_csv(\"C:/Users/milon/Downloads/ml6.xlsx\")\n",
    "\n",
    "# root data\n",
    "df1 = pd.read_excel(\"C:/Users/milon/Downloads/ml7.xlsx\")\n"
   ]
  },
  {
   "cell_type": "code",
   "execution_count": 2,
   "metadata": {},
   "outputs": [
    {
     "data": {
      "text/plain": [
       "list"
      ]
     },
     "execution_count": 2,
     "metadata": {},
     "output_type": "execute_result"
    }
   ],
   "source": [
    "data_2 = df2[\"ID\"]\n",
    "data_2 = sorted(data_2)\n",
    "\n",
    "data_1 = df1[\"ID\"].tolist()\n",
    "\n",
    "type(data_1)\n",
    "\n",
    "# j=0\n",
    "# k=0\n",
    "# i=0\n",
    "\n",
    "# for i in range(67):\n",
    "#     for k in range(67):\n",
    "#         if data1[i]==ab[k]:\n",
    "#             print(i,\" 1\")\n",
    "#             break\n",
    "#         else:\n",
    "#             continue\n",
    "            \n",
    "#         k=k+1\n",
    "    \n",
    "    \n",
    "\n"
   ]
  },
  {
   "cell_type": "code",
   "execution_count": 3,
   "metadata": {},
   "outputs": [
    {
     "name": "stdout",
     "output_type": "stream",
     "text": [
      "<class 'list'>\n",
      "<class 'list'>\n"
     ]
    },
    {
     "data": {
      "text/plain": [
       "['0',\n",
       " '0',\n",
       " '0',\n",
       " '0',\n",
       " '0',\n",
       " '0',\n",
       " '0',\n",
       " '0',\n",
       " '0',\n",
       " '0',\n",
       " '0',\n",
       " '0',\n",
       " '0',\n",
       " '0',\n",
       " '0',\n",
       " '0',\n",
       " '0',\n",
       " '0',\n",
       " '0',\n",
       " '0',\n",
       " '0',\n",
       " '0',\n",
       " '0',\n",
       " '0',\n",
       " '15CSE020',\n",
       " '15CSE022',\n",
       " '15CSE023',\n",
       " '15CSE030',\n",
       " '15CSE044',\n",
       " '16CSE004',\n",
       " '16CSE005',\n",
       " '16CSE008',\n",
       " '16CSE010',\n",
       " '16CSE011',\n",
       " '16CSE012',\n",
       " '16CSE014',\n",
       " '16CSE020 ',\n",
       " '16CSE022',\n",
       " '16CSE023',\n",
       " '16CSE027',\n",
       " '16CSE028',\n",
       " '16CSE029',\n",
       " '16CSE031 ',\n",
       " '16CSE032',\n",
       " '16CSE034',\n",
       " '16CSE035 ',\n",
       " '16CSE037',\n",
       " '16CSE038',\n",
       " '16CSE039',\n",
       " '16CSE041',\n",
       " '16CSE046',\n",
       " '16CSE047',\n",
       " '16CSE048',\n",
       " '16CSE049',\n",
       " '16CSE050 ',\n",
       " '16CSE051',\n",
       " '16CSE052',\n",
       " '16CSE053 ',\n",
       " '16CSE056',\n",
       " '16CSE057',\n",
       " '16CSE059',\n",
       " '16CSE062',\n",
       " '16CSE065',\n",
       " '16CSE066',\n",
       " '16CSE068',\n",
       " '16CSE070']"
      ]
     },
     "execution_count": 3,
     "metadata": {},
     "output_type": "execute_result"
    }
   ],
   "source": [
    "print(type(data_2))\n",
    "print(type(data_1))\n",
    "\n",
    "data_2[:]"
   ]
  },
  {
   "cell_type": "code",
   "execution_count": 4,
   "metadata": {},
   "outputs": [],
   "source": [
    "# # Using map function\n",
    "# data_2 = map(lambda x:x.lower(), data_2[:])"
   ]
  },
  {
   "cell_type": "code",
   "execution_count": 7,
   "metadata": {},
   "outputs": [
    {
     "name": "stdout",
     "output_type": "stream",
     "text": [
      "16CSE001     0\n",
      "16CSE002     0\n",
      "16CSE003     0\n",
      "16CSE004     1\n",
      "16CSE005     1\n",
      "16CSE006     0\n",
      "16CSE008     1\n",
      "16CSE010     1\n",
      "16CSE011     1\n",
      "16CSE012     1\n",
      "16CSE014     1\n",
      "16CSE016     0\n",
      "16CSE018     0\n",
      "16CSE019     0\n",
      "16CSE020     0\n",
      "16CSE021     0\n",
      "16CSE022     1\n",
      "16CSE023     1\n",
      "16CSE024     0\n",
      "16CSE025     0\n",
      "16CSE026     0\n",
      "16CSE027     1\n",
      "16CSE028     1\n",
      "16CSE029     1\n",
      "16CSE030     0\n",
      "16CSE031     0\n",
      "16CSE032     1\n",
      "16CSE034     1\n",
      "16CSE035     0\n",
      "16CSE036     0\n",
      "16CSE037     1\n",
      "16CSE038     1\n",
      "16CSE039     1\n",
      "16CSE040     0\n",
      "16CSE041     1\n",
      "16CSE044     0\n",
      "16CSE046     1\n",
      "16CSE047     1\n",
      "16CSE048     1\n",
      "16CSE049     1\n",
      "16CSE050     0\n",
      "16CSE051     1\n",
      "16CSE052     1\n",
      "16CSE053     0\n",
      "16CSE054     0\n",
      "16CSE056     1\n",
      "16CSE057     1\n",
      "16CSE058     0\n",
      "16CSE059     1\n",
      "16CSE060     0\n",
      "16CSE061     0\n",
      "16CSE062     1\n",
      "16CSE063     0\n",
      "16CSE065     1\n",
      "16CSE066     1\n",
      "16CSE068     1\n",
      "16CSE070     1\n",
      "16CSE071     0\n",
      "15CSE020     1\n",
      "15CSE022     1\n",
      "15CSE023     1\n",
      "15CSE030     1\n",
      "15CSE044     1\n",
      "15CSE050     0\n",
      "20151101015     0\n",
      "20141201049     0\n",
      "37\n"
     ]
    }
   ],
   "source": [
    "i = 0\n",
    "x= False\n",
    "count = 0\n",
    "for i in range(66):\n",
    "    for k in range(66):\n",
    "        if data_1[i] == data_2[k]:\n",
    "            x = True #             print(data_1[i],\"    1\")\n",
    "            count = count + 1\n",
    "            break\n",
    "        else:\n",
    "            x = False\n",
    "    if(x == True):\n",
    "        print( data_1[i], \"    1\")\n",
    "    else:\n",
    "        print(data_1[i], \"    0\")\n",
    "   # print(i,\" 0\")\n",
    "print(count)\n",
    "            "
   ]
  },
  {
   "cell_type": "code",
   "execution_count": null,
   "metadata": {},
   "outputs": [],
   "source": []
  },
  {
   "cell_type": "code",
   "execution_count": null,
   "metadata": {},
   "outputs": [],
   "source": []
  },
  {
   "cell_type": "code",
   "execution_count": null,
   "metadata": {},
   "outputs": [],
   "source": []
  }
 ],
 "metadata": {
  "kernelspec": {
   "display_name": "Python 3",
   "language": "python",
   "name": "python3"
  },
  "language_info": {
   "codemirror_mode": {
    "name": "ipython",
    "version": 3
   },
   "file_extension": ".py",
   "mimetype": "text/x-python",
   "name": "python",
   "nbconvert_exporter": "python",
   "pygments_lexer": "ipython3",
   "version": "3.8.5"
  }
 },
 "nbformat": 4,
 "nbformat_minor": 4
}
